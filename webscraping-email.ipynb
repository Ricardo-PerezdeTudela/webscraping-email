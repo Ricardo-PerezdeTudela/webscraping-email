{
 "cells": [
  {
   "cell_type": "code",
   "execution_count": 54,
   "metadata": {},
   "outputs": [],
   "source": [
    "import re\n",
    "import pandas as pd\n",
    "from urllib.request import urlopen\n",
    "from bs4 import BeautifulSoup\n",
    "from datetime import datetime"
   ]
  },
  {
   "cell_type": "code",
   "execution_count": 55,
   "metadata": {},
   "outputs": [],
   "source": [
    "def extract_data (web, date, time):\n",
    "    # The name of the website is built, ready to be put in the browser:\n",
    "    web_archive = \"https://web.archive.org/web/\"\n",
    "    url = web_archive + str(date) + str(time) + \"/\" + web\n",
    "\n",
    "    # Open website:\n",
    "    html = urlopen(url)\n",
    "    soup = BeautifulSoup(html, features=\"html.parser\")\n",
    "    \n",
    "    # We find the table that contains the word \"China\"\n",
    "    tables = soup.findAll('table')\n",
    "    #print(len(tables))\n",
    "    for idx, i in enumerate(tables):\n",
    "        ctr = i.text.find('China')\n",
    "        if ctr != -1:\n",
    "            index = idx\n",
    "    \n",
    "    # Extract the rows of tha table and store in a list:\n",
    "    list_rows = []\n",
    "    rows = tables[index].find_all('tr')\n",
    "    for row in rows:\n",
    "        column = []\n",
    "        for col in row.find_all('td'):\n",
    "            column.append(col.text.strip().replace(',','').replace('\\n','').replace(' ','_'))\n",
    "        list_rows.append(column)\n",
    "\n",
    "    # Transform the list into a pandas dataset:\n",
    "    df = pd.DataFrame(list_rows)\n",
    "    df.drop(df.index[0], inplace=True) #Remove 1st row\n",
    "    \n",
    "    # Dealing with the column names:\n",
    "    list_cols = []\n",
    "    cols = soup.find_all('th')\n",
    "    if len(cols) > 9:\n",
    "        cols = cols[0:9]\n",
    "    for col in cols:\n",
    "        col = col.text.strip()\n",
    "        col = re.sub('^.*ountry.*', 'Country', col)\n",
    "        col = re.sub('^.*otal.*ases.*', 'Total_Cases', col)\n",
    "        col = re.sub('^.*otal.*eath.*', 'Total_Deaths', col)\n",
    "        col = re.sub('^.*otal.*ecover.*', 'Total_Recovered', col)\n",
    "        list_cols.append(col.replace(' ','_'))\n",
    "\n",
    "    df.columns = list_cols\n",
    "   \n",
    "    # Only interested in some columns.\n",
    "    # The index will be the country:\n",
    "    df1 = df[[\"Country\", \"Total_Cases\", \"Total_Deaths\", \"Total_Recovered\"]].set_index(\"Country\")\n",
    "\n",
    "    return df1"
   ]
  },
  {
   "cell_type": "code",
   "execution_count": 56,
   "metadata": {},
   "outputs": [
    {
     "name": "stdout",
     "output_type": "stream",
     "text": [
      "20200311\n",
      "230000\n"
     ]
    }
   ],
   "source": [
    "web = \"https://www.worldometers.info/coronavirus\"\n",
    "\n",
    "# Set the desired date and time in the appropriate format that the function \"extract_data\" needs:\n",
    "datestr = \"11/3/2020\"\n",
    "\n",
    "date = datetime.strptime(datestr, '%d/%m/%Y').date().strftime(\"%Y%m%d\")\n",
    "time = datetime.strptime(\"23:00\", '%H:%M').time().strftime(\"%H%M%S\")\n",
    "\n",
    "print(date)\n",
    "print(time)\n",
    "\n",
    "df = extract_data (web, date, time)"
   ]
  },
  {
   "cell_type": "code",
   "execution_count": 57,
   "metadata": {},
   "outputs": [
    {
     "data": {
      "text/plain": [
       "Index(['China', 'Italy', 'Iran', 'S._Korea', 'France', 'Spain', 'Germany',\n",
       "       'USA', 'Diamond_Princess', 'Switzerland',\n",
       "       ...\n",
       "       'DRC', 'Gibraltar', 'Vatican_City', 'Liechtenstein', 'Mongolia',\n",
       "       'Réunion', 'St._Barth', 'Togo', 'Turkey', 'Total:'],\n",
       "      dtype='object', name='Country', length=123)"
      ]
     },
     "execution_count": 57,
     "metadata": {},
     "output_type": "execute_result"
    }
   ],
   "source": [
    "# There are over 100 countries listed:\n",
    "df.index"
   ]
  },
  {
   "cell_type": "code",
   "execution_count": 6,
   "metadata": {},
   "outputs": [
    {
     "name": "stdout",
     "output_type": "stream",
     "text": [
      "['USA', 'UK', 'UAE', 'Ukraine']\n"
     ]
    }
   ],
   "source": [
    "# List the countries that start with a \"U\":\n",
    "r = re.compile(\"^U\")\n",
    "l = list(filter(r.match, df.index))\n",
    "print(l)"
   ]
  },
  {
   "cell_type": "code",
   "execution_count": 7,
   "metadata": {},
   "outputs": [
    {
     "data": {
      "text/plain": [
       "['1283', '37', '15']"
      ]
     },
     "execution_count": 7,
     "metadata": {},
     "output_type": "execute_result"
    }
   ],
   "source": [
    "# Examine the numerical values for a specific country:\n",
    "df.loc[\"USA\"].to_list()"
   ]
  },
  {
   "cell_type": "code",
   "execution_count": 10,
   "metadata": {},
   "outputs": [
    {
     "name": "stdout",
     "output_type": "stream",
     "text": [
      "['S._Korea']\n"
     ]
    }
   ],
   "source": [
    "# Check if both Koreas are included:\n",
    "r = re.compile(\".*orea.*\")\n",
    "l = list(filter(r.match, df.index))\n",
    "print(l)"
   ]
  },
  {
   "cell_type": "markdown",
   "metadata": {},
   "source": [
    "# Send email"
   ]
  },
  {
   "cell_type": "code",
   "execution_count": 61,
   "metadata": {},
   "outputs": [
    {
     "data": {
      "text/plain": [
       "(221, b'2.0.0 closing connection g61sm13446764ede.96 - gsmtp')"
      ]
     },
     "execution_count": 61,
     "metadata": {},
     "output_type": "execute_result"
    }
   ],
   "source": [
    "import smtplib\n",
    "fromaddr = 'from@gmail.com'\n",
    "toaddr   = 'to@gmail.com'\n",
    "username = fromaddr\n",
    "password = 'xxx'\n",
    "\n",
    "server = smtplib.SMTP('smtp.gmail.com:587')\n",
    "server.ehlo()\n",
    "server.starttls()\n",
    "server.login(username,password)\n",
    "\n",
    "# An email will be sent to \"toaddr\" with the analyzed date in the Subject and \n",
    "# a table with the first 10 countries more affected by the virus. \n",
    "\n",
    "msg = \"<html><body>\" + str(df.head(10).to_html()) + \"</body></html>\"\n",
    "#.encode('utf-8')\n",
    "\n",
    "message = \"\"\"From: Ricuit <ricuit@gilsingstrasse.com>\n",
    "To: Januit <janetboram@gmail.com>\n",
    "MIME-Version: 1.0\n",
    "Content-type: text/html\n",
    "Subject: Corona information at \"\"\" + datestr + \"\"\"\n",
    "\n",
    "\"\"\" + msg + \"\"\"\"\"\"\n",
    "\n",
    "##+ title.get_text() + \"\"\"\n",
    "\n",
    "\n",
    "server.sendmail(fromaddr, toaddr, message)\n",
    "server.quit()"
   ]
  },
  {
   "cell_type": "code",
   "execution_count": null,
   "metadata": {},
   "outputs": [],
   "source": []
  }
 ],
 "metadata": {
  "kernelspec": {
   "display_name": "Python 3",
   "language": "python",
   "name": "python3"
  },
  "language_info": {
   "codemirror_mode": {
    "name": "ipython",
    "version": 3
   },
   "file_extension": ".py",
   "mimetype": "text/x-python",
   "name": "python",
   "nbconvert_exporter": "python",
   "pygments_lexer": "ipython3",
   "version": "3.7.3"
  }
 },
 "nbformat": 4,
 "nbformat_minor": 2
}
